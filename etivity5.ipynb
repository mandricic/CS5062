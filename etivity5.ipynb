{
  "nbformat": 4,
  "nbformat_minor": 0,
  "metadata": {
    "kernelspec": {
      "display_name": "Python 3",
      "language": "python",
      "name": "python3"
    },
    "language_info": {
      "codemirror_mode": {
        "name": "ipython",
        "version": 3
      },
      "file_extension": ".py",
      "mimetype": "text/x-python",
      "name": "python",
      "nbconvert_exporter": "python",
      "pygments_lexer": "ipython3",
      "version": "3.7.4"
    },
    "colab": {
      "name": "etivity5.ipynb",
      "provenance": []
    }
  },
  "cells": [
    {
      "cell_type": "markdown",
      "metadata": {
        "id": "0LEqIvs1dP98",
        "colab_type": "text"
      },
      "source": [
        "# Lab 5: Regression and Dimensionality Reduction"
      ]
    },
    {
      "cell_type": "markdown",
      "metadata": {
        "id": "cxrHQHQ6dP98",
        "colab_type": "text"
      },
      "source": [
        "This exercise repeats the same scenario as Lab 4, but this time we train a regression model, i.e. a model for numeric prediction. We also add dimensionality reduction element to the training pipeline. Note that dimensionality reduction can be included in classification pipelines in the same way. \n",
        "\n",
        "In this exercise we use the `winequality-red` dataset, taken from https://archive.ics.uci.edu/ml/datasets/wine+quality. Each example in this dataset represents a particular red wine. The columns (i.e. the features) are numerical characteristics of the wines. One of them is the `quality` of the wine on a scale from 3 to 8, and all others are chemical characteristics of the wine. \n",
        "\n",
        "We aim which at training a regression model for predicting the quality of a red wine. We will evaluate two regression algorithms, `RandomForestRegressor` and `LinearRegression`, to choose the better one for training the final model."
      ]
    },
    {
      "cell_type": "code",
      "metadata": {
        "id": "D0HopaWWdP99",
        "colab_type": "code",
        "colab": {}
      },
      "source": [
        "import pandas as pd\n",
        "import numpy as np\n",
        "from sklearn.pipeline import Pipeline, make_pipeline, FeatureUnion\n",
        "from sklearn.compose import ColumnTransformer\n",
        "from sklearn.base import BaseEstimator, TransformerMixin\n",
        "from sklearn.preprocessing import StandardScaler, RobustScaler, FunctionTransformer\n",
        "from sklearn.model_selection import train_test_split, GridSearchCV\n",
        "import pickle\n",
        "import matplotlib.pyplot as plt\n",
        "%matplotlib inline\n",
        "\n",
        "# imports necessary for dimensionality reduction\n",
        "from sklearn.decomposition import PCA\n",
        "from sklearn.feature_selection import RFE\n",
        "from sklearn import svm\n",
        "from sklearn.decomposition import FactorAnalysis, FastICA\n",
        "\n",
        "# regression algorithms\n",
        "from sklearn.ensemble import RandomForestRegressor\n",
        "from sklearn.linear_model import LinearRegression\n",
        "\n",
        "# metrics for evaluating regression models\n",
        "from sklearn.metrics import mean_squared_error, mean_absolute_error, r2_score"
      ],
      "execution_count": 0,
      "outputs": []
    },
    {
      "cell_type": "markdown",
      "metadata": {
        "id": "Ee7HWo3FdP-A",
        "colab_type": "text"
      },
      "source": [
        "## EDA"
      ]
    },
    {
      "cell_type": "markdown",
      "metadata": {
        "id": "fjxxabQrdP-B",
        "colab_type": "text"
      },
      "source": [
        "We start with a brief EDA to check for missing values and outliers."
      ]
    },
    {
      "cell_type": "code",
      "metadata": {
        "id": "9-bJTNSPdP-B",
        "colab_type": "code",
        "colab": {
          "base_uri": "https://localhost:8080/",
          "height": 204
        },
        "outputId": "6a83e085-3aaf-45c2-8eea-7eac2b38601a"
      },
      "source": [
        "df = pd.read_csv(\"https://raw.githubusercontent.com/mandricic/CS5062/master/winequality-white.csv\")\n",
        "df.head()"
      ],
      "execution_count": 23,
      "outputs": [
        {
          "output_type": "execute_result",
          "data": {
            "text/html": [
              "<div>\n",
              "<style scoped>\n",
              "    .dataframe tbody tr th:only-of-type {\n",
              "        vertical-align: middle;\n",
              "    }\n",
              "\n",
              "    .dataframe tbody tr th {\n",
              "        vertical-align: top;\n",
              "    }\n",
              "\n",
              "    .dataframe thead th {\n",
              "        text-align: right;\n",
              "    }\n",
              "</style>\n",
              "<table border=\"1\" class=\"dataframe\">\n",
              "  <thead>\n",
              "    <tr style=\"text-align: right;\">\n",
              "      <th></th>\n",
              "      <th>fixed acidity</th>\n",
              "      <th>volatile acidity</th>\n",
              "      <th>citric acid</th>\n",
              "      <th>residual sugar</th>\n",
              "      <th>chlorides</th>\n",
              "      <th>free sulfur dioxide</th>\n",
              "      <th>total sulfur dioxide</th>\n",
              "      <th>density</th>\n",
              "      <th>pH</th>\n",
              "      <th>sulphates</th>\n",
              "      <th>alcohol</th>\n",
              "      <th>quality</th>\n",
              "    </tr>\n",
              "  </thead>\n",
              "  <tbody>\n",
              "    <tr>\n",
              "      <th>0</th>\n",
              "      <td>7.0</td>\n",
              "      <td>0.27</td>\n",
              "      <td>0.36</td>\n",
              "      <td>20.7</td>\n",
              "      <td>0.045</td>\n",
              "      <td>45.0</td>\n",
              "      <td>170.0</td>\n",
              "      <td>1.0010</td>\n",
              "      <td>3.00</td>\n",
              "      <td>0.45</td>\n",
              "      <td>8.8</td>\n",
              "      <td>6</td>\n",
              "    </tr>\n",
              "    <tr>\n",
              "      <th>1</th>\n",
              "      <td>6.3</td>\n",
              "      <td>0.30</td>\n",
              "      <td>0.34</td>\n",
              "      <td>1.6</td>\n",
              "      <td>0.049</td>\n",
              "      <td>14.0</td>\n",
              "      <td>132.0</td>\n",
              "      <td>0.9940</td>\n",
              "      <td>3.30</td>\n",
              "      <td>0.49</td>\n",
              "      <td>9.5</td>\n",
              "      <td>6</td>\n",
              "    </tr>\n",
              "    <tr>\n",
              "      <th>2</th>\n",
              "      <td>8.1</td>\n",
              "      <td>0.28</td>\n",
              "      <td>0.40</td>\n",
              "      <td>6.9</td>\n",
              "      <td>0.050</td>\n",
              "      <td>30.0</td>\n",
              "      <td>97.0</td>\n",
              "      <td>0.9951</td>\n",
              "      <td>3.26</td>\n",
              "      <td>0.44</td>\n",
              "      <td>10.1</td>\n",
              "      <td>6</td>\n",
              "    </tr>\n",
              "    <tr>\n",
              "      <th>3</th>\n",
              "      <td>7.2</td>\n",
              "      <td>0.23</td>\n",
              "      <td>0.32</td>\n",
              "      <td>8.5</td>\n",
              "      <td>0.058</td>\n",
              "      <td>47.0</td>\n",
              "      <td>186.0</td>\n",
              "      <td>0.9956</td>\n",
              "      <td>3.19</td>\n",
              "      <td>0.40</td>\n",
              "      <td>9.9</td>\n",
              "      <td>6</td>\n",
              "    </tr>\n",
              "    <tr>\n",
              "      <th>4</th>\n",
              "      <td>7.2</td>\n",
              "      <td>0.23</td>\n",
              "      <td>0.32</td>\n",
              "      <td>8.5</td>\n",
              "      <td>0.058</td>\n",
              "      <td>47.0</td>\n",
              "      <td>186.0</td>\n",
              "      <td>0.9956</td>\n",
              "      <td>3.19</td>\n",
              "      <td>0.40</td>\n",
              "      <td>9.9</td>\n",
              "      <td>6</td>\n",
              "    </tr>\n",
              "  </tbody>\n",
              "</table>\n",
              "</div>"
            ],
            "text/plain": [
              "   fixed acidity  volatile acidity  citric acid  ...  sulphates  alcohol  quality\n",
              "0            7.0              0.27         0.36  ...       0.45      8.8        6\n",
              "1            6.3              0.30         0.34  ...       0.49      9.5        6\n",
              "2            8.1              0.28         0.40  ...       0.44     10.1        6\n",
              "3            7.2              0.23         0.32  ...       0.40      9.9        6\n",
              "4            7.2              0.23         0.32  ...       0.40      9.9        6\n",
              "\n",
              "[5 rows x 12 columns]"
            ]
          },
          "metadata": {
            "tags": []
          },
          "execution_count": 23
        }
      ]
    },
    {
      "cell_type": "code",
      "metadata": {
        "id": "hNPLPftBdP-F",
        "colab_type": "code",
        "colab": {
          "base_uri": "https://localhost:8080/",
          "height": 170
        },
        "outputId": "cdac03d3-6dc5-44a8-ae6a-1fc5b703e589"
      },
      "source": [
        "df['quality'].describe()"
      ],
      "execution_count": 24,
      "outputs": [
        {
          "output_type": "execute_result",
          "data": {
            "text/plain": [
              "count    4898.000000\n",
              "mean        5.877909\n",
              "std         0.885639\n",
              "min         3.000000\n",
              "25%         5.000000\n",
              "50%         6.000000\n",
              "75%         6.000000\n",
              "max         9.000000\n",
              "Name: quality, dtype: float64"
            ]
          },
          "metadata": {
            "tags": []
          },
          "execution_count": 24
        }
      ]
    },
    {
      "cell_type": "markdown",
      "metadata": {
        "id": "fElMS37HdP-I",
        "colab_type": "text"
      },
      "source": [
        "First of all let's check for missing values and outliers."
      ]
    },
    {
      "cell_type": "code",
      "metadata": {
        "id": "fnFYQ2b7dP-I",
        "colab_type": "code",
        "colab": {
          "base_uri": "https://localhost:8080/",
          "height": 238
        },
        "outputId": "1255bc9c-5428-4c41-e0e2-18dc7c789008"
      },
      "source": [
        "df.isna().sum()"
      ],
      "execution_count": 25,
      "outputs": [
        {
          "output_type": "execute_result",
          "data": {
            "text/plain": [
              "fixed acidity           0\n",
              "volatile acidity        0\n",
              "citric acid             0\n",
              "residual sugar          0\n",
              "chlorides               0\n",
              "free sulfur dioxide     0\n",
              "total sulfur dioxide    0\n",
              "density                 0\n",
              "pH                      0\n",
              "sulphates               0\n",
              "alcohol                 0\n",
              "quality                 0\n",
              "dtype: int64"
            ]
          },
          "metadata": {
            "tags": []
          },
          "execution_count": 25
        }
      ]
    },
    {
      "cell_type": "markdown",
      "metadata": {
        "id": "BUaiyv6_dP-L",
        "colab_type": "text"
      },
      "source": [
        "There are no missing values. Let's check the boxplots of all columns except `quality` for outliers."
      ]
    },
    {
      "cell_type": "code",
      "metadata": {
        "id": "oyiqYX28dP-M",
        "colab_type": "code",
        "colab": {
          "base_uri": "https://localhost:8080/",
          "height": 320
        },
        "outputId": "4f23b59e-3757-486c-ae45-fe476c54a0bb"
      },
      "source": [
        "df.boxplot(figsize=(20,5))\n",
        "plt.show()"
      ],
      "execution_count": 26,
      "outputs": [
        {
          "output_type": "display_data",
          "data": {
            "image/png": "[encoded data removed]",
            "text/plain": [
              "<Figure size 1440x360 with 1 Axes>"
            ]
          },
          "metadata": {
            "tags": [],
            "needs_background": "light"
          }
        }
      ]
    },
    {
      "cell_type": "markdown",
      "metadata": {
        "id": "U3RgVSpbdP-P",
        "colab_type": "text"
      },
      "source": [
        "The columns `free sulfur dioxide` and `total sulfur dioxide` appear to have most prominent outliers and `residual sugar` also have outliers.  We will apply log transformation followed by `RobustScaler` to those 3 columns. To all other columns (except `quality`) we will apply `StandardScaler`.  "
      ]
    },
    {
      "cell_type": "markdown",
      "metadata": {
        "id": "cZH2F4dZdP-Q",
        "colab_type": "text"
      },
      "source": [
        "## Data Preparation"
      ]
    },
    {
      "cell_type": "markdown",
      "metadata": {
        "id": "-wZ2QWWldP-R",
        "colab_type": "text"
      },
      "source": [
        "First, we need to prepare two lists of column names. The list `names_outliers` contains the names of the two columns to which we will apply log transformation followed by `RobustScaler`. The list `names_no_outliers` contains the names of all other columns (except `quality`) to which we will apply `StandardScaler`."
      ]
    },
    {
      "cell_type": "code",
      "metadata": {
        "id": "WYP4jfO_dP-S",
        "colab_type": "code",
        "colab": {}
      },
      "source": [
        "# store a list with the names of all predictors\n",
        "names_all = [c for c in df if c not in ['quality']]\n",
        "\n",
        "# define column groups with the same data preparation\n",
        "names_outliers = ['residual sugar','free sulfur dioxide', 'total sulfur dioxide']\n",
        "names_no_outliers = list(set(names_all) - set(names_outliers))"
      ],
      "execution_count": 0,
      "outputs": []
    },
    {
      "cell_type": "markdown",
      "metadata": {
        "id": "_zcvQowUdP-V",
        "colab_type": "text"
      },
      "source": [
        "After splitting a dataset into a training and test sets, the names of the columns are lost. This is the reason, we stored the names of the columns in lists above. We will use the following class in the preprocessing pipeline to put the names of the columns back. We need this to easily apply the different preparation strategies to the two groups of columns. "
      ]
    },
    {
      "cell_type": "code",
      "metadata": {
        "id": "kNkwFokGdP-W",
        "colab_type": "code",
        "colab": {}
      },
      "source": [
        "class AddColumnNames(BaseEstimator, TransformerMixin):\n",
        "    def __init__(self, columns):\n",
        "        self.columns = columns\n",
        "\n",
        "    def fit(self, X, y=None):\n",
        "        return self\n",
        "\n",
        "    def transform(self, X):\n",
        "        return pd.DataFrame(data=X, columns=self.columns)"
      ],
      "execution_count": 0,
      "outputs": []
    },
    {
      "cell_type": "markdown",
      "metadata": {
        "id": "CfX4QsxsdP-Y",
        "colab_type": "text"
      },
      "source": [
        "Then we need another class to be able to select a particular group of columns."
      ]
    },
    {
      "cell_type": "code",
      "metadata": {
        "id": "X8E-20vJdP-Z",
        "colab_type": "code",
        "colab": {}
      },
      "source": [
        "class ColumnSelector(BaseEstimator, TransformerMixin):\n",
        "    def __init__(self, columns):\n",
        "        self.columns = columns\n",
        "\n",
        "    def fit(self, X, y=None):\n",
        "        return self\n",
        "\n",
        "    def transform(self, X):\n",
        "        assert isinstance(X, pd.DataFrame)\n",
        "        return X[self.columns]"
      ],
      "execution_count": 0,
      "outputs": []
    },
    {
      "cell_type": "markdown",
      "metadata": {
        "id": "1SPVsbySdP-b",
        "colab_type": "text"
      },
      "source": [
        "Finally, we can build the preprocessing pipeline. It first adds the column names back to a set of examples (that can be either a training, or a validation, or test set). Then it applies the two different data preparation strategies to the two groups of columns and unites them with `FeatureUnion`. "
      ]
    },
    {
      "cell_type": "code",
      "metadata": {
        "id": "Osk19sW3dP-c",
        "colab_type": "code",
        "colab": {}
      },
      "source": [
        "preprocess_pipeline = make_pipeline(\n",
        "    AddColumnNames(columns=names_all),\n",
        "    FeatureUnion(transformer_list=[\n",
        "        (\"outlier_columns\", make_pipeline(\n",
        "            ColumnSelector(columns=names_outliers),\n",
        "            FunctionTransformer(np.log, validate=True),\n",
        "            RobustScaler()\n",
        "        )),\n",
        "        (\"no_outlier_columns\", make_pipeline(\n",
        "            ColumnSelector(columns=names_no_outliers),\n",
        "            StandardScaler()\n",
        "        ))\n",
        "    ])\n",
        ")"
      ],
      "execution_count": 0,
      "outputs": []
    },
    {
      "cell_type": "markdown",
      "metadata": {
        "id": "Nh_zV3ksdP-g",
        "colab_type": "text"
      },
      "source": [
        "Now we can separate the columns into *target* and *predictors* and split the dataset into a training and test sets. "
      ]
    },
    {
      "cell_type": "code",
      "metadata": {
        "id": "M_gcYRqsdP-g",
        "colab_type": "code",
        "colab": {}
      },
      "source": [
        "y = df['quality']\n",
        "X = df.drop('quality', axis=1).values\n",
        "\n",
        "X_train, X_test, y_train, y_test = train_test_split(X, y, test_size=0.2, shuffle=True, stratify=y)"
      ],
      "execution_count": 0,
      "outputs": []
    },
    {
      "cell_type": "markdown",
      "metadata": {
        "id": "_ofQUe0QdP-i",
        "colab_type": "text"
      },
      "source": [
        "Although we treat `quality` as a numerical attribute, it is in fact ordinal, and we can still do a stratified split to ensure that the distribution of wine qualities is the same in both the training and the test sets.\n",
        "\n",
        "Note that after the split into a training and test sets, X_train and X_test are numpy arrays and no longer have column names. That's why we needed the class above to put the names of columns back in the preprocessing pipeline."
      ]
    },
    {
      "cell_type": "markdown",
      "metadata": {
        "id": "hTEp5LfBdP-j",
        "colab_type": "text"
      },
      "source": [
        "## Grid Search for Best Parameters and Best Dimensionality Reduction Method"
      ]
    },
    {
      "cell_type": "markdown",
      "metadata": {
        "id": "BFapZx-bdP-j",
        "colab_type": "text"
      },
      "source": [
        "Next, we train `RandomForestRegressor` on the training set with a range of possible parameters in order to find the best parameters by cross-validation. To do this we will build another [main] pipeline which includes the preprocessing pipeline and `RandomForestRegressor`. We also add an element for dimensionality reduction after the preprocessing pipeline.\n",
        "\n",
        "Here we will attempt three different dimensionality reduction methods and we will let the grid search pick the best one. These are:\n",
        "\n",
        "- Principal Component Analysis (PCA)\n",
        "- Recursive Feature Elimination (RFE) with estimator `svm.SVR`\n",
        "- Recursive Feature Elimination (RFE) with estimator `LinearRegression`\n",
        "\n",
        "Note that RFE is using regression algorithms for selecting the best features. These regression algorithms can be different from the regression algorithm at the end of the main pipeline.\n",
        "\n",
        "The main pipeline will take care for separately preprocessing the training and validation sets after the training set is further split into training and validation sets in the process of cross-validation. It also applies the dimensionality reduction method separately to the two sets."
      ]
    },
    {
      "cell_type": "markdown",
      "metadata": {
        "id": "CiJMKZGldP-k",
        "colab_type": "text"
      },
      "source": [
        "### Random Forest Pipeline"
      ]
    },
    {
      "cell_type": "markdown",
      "metadata": {
        "id": "qrv7bd71dP-k",
        "colab_type": "text"
      },
      "source": [
        "The pipeline contains a placeholder for the dimensionality reduction method. We will treat the method as a parameter and let the grid search pick the best of the three methods."
      ]
    },
    {
      "cell_type": "code",
      "metadata": {
        "id": "BUyAyZ6CdP-l",
        "colab_type": "code",
        "colab": {}
      },
      "source": [
        "pipe = Pipeline(steps=[('preprocess', preprocess_pipeline), \n",
        "                       ('reduce_dim', 'passthrough'),\n",
        "                       ('regresson', RandomForestRegressor(n_estimators=10))])"
      ],
      "execution_count": 0,
      "outputs": []
    },
    {
      "cell_type": "markdown",
      "metadata": {
        "id": "4EZeBxoKdP-n",
        "colab_type": "text"
      },
      "source": [
        "We limit the parameter grid to a few options for the `max_depth` parameter of `RandomForestRegressor` and to three alternative values for the number of selected features by the dimensionality reduction method. More parameters and values can be explored. Here we limit the options to make sure the grid search does not take too long to execute."
      ]
    },
    {
      "cell_type": "code",
      "metadata": {
        "id": "6Qb9QNcPdP-n",
        "colab_type": "code",
        "colab": {
          "base_uri": "https://localhost:8080/",
          "height": 156
        },
        "outputId": "dc255ca9-b582-4fb4-aa0b-47cbf70aa4c0"
      },
      "source": [
        "N_FEATURES_OPTIONS = [2, 6, 11]\n",
        "MAX_DEPTH_OPTIONS = [2, 4, 6, 8]\n",
        "\n",
        "param_grid = [\n",
        "    {\n",
        "        'reduce_dim': [PCA(iterated_power=7)],\n",
        "        'reduce_dim__n_components': N_FEATURES_OPTIONS,\n",
        "        'regresson__max_depth': MAX_DEPTH_OPTIONS\n",
        "    },\n",
        "    {\n",
        "        'reduce_dim': [RFE(svm.SVR(kernel='linear', gamma='auto')),RFE(LinearRegression())],\n",
        "        'reduce_dim__n_features_to_select': N_FEATURES_OPTIONS,\n",
        "        'regresson__max_depth': MAX_DEPTH_OPTIONS\n",
        "    }  \n",
        "]\n",
        "\n",
        "search = GridSearchCV(pipe, param_grid, cv=10, iid = False, refit=True)\n",
        "search.fit(X_train, y_train)\n",
        "\n",
        "print(\"Best CV score = %0.3f\" % search.best_score_)\n",
        "print(\"Best parameters: \", search.best_params_)\n",
        "\n",
        "# store the best params and best model for later use\n",
        "RF_best_params = search.best_params_\n",
        "RF_best_model = search.best_estimator_"
      ],
      "execution_count": 33,
      "outputs": [
        {
          "output_type": "stream",
          "text": [
            "/usr/local/lib/python3.6/dist-packages/sklearn/model_selection/_search.py:823: FutureWarning: The parameter 'iid' is deprecated in 0.22 and will be removed in 0.24.\n",
            "  \"removed in 0.24.\", FutureWarning\n"
          ],
          "name": "stderr"
        },
        {
          "output_type": "stream",
          "text": [
            "Best CV score = 0.399\n",
            "Best parameters:  {'reduce_dim': RFE(estimator=SVR(C=1.0, cache_size=200, coef0=0.0, degree=3, epsilon=0.1,\n",
            "                  gamma='auto', kernel='linear', max_iter=-1, shrinking=True,\n",
            "                  tol=0.001, verbose=False),\n",
            "    n_features_to_select=11, step=1, verbose=0), 'reduce_dim__n_features_to_select': 11, 'regresson__max_depth': 8}\n"
          ],
          "name": "stdout"
        }
      ]
    },
    {
      "cell_type": "markdown",
      "metadata": {
        "id": "MbWn3kXXdP-p",
        "colab_type": "text"
      },
      "source": [
        "We explicitly assign the `False` to the parameter `iid` of `GridSearchCV` to avoid a deprecation warning. The parameter `refit=True` makes the `GridSearchCV` train a `RandomForestRegressor` model on the **whole training set** with the best parameters and the best dimensionality reduction method found. This best model can then be accessed via the `.best_estimator_` attribute of the `GridSearchCV`.\n",
        "\n",
        "Let's repeat the same experiment but with `LinearRegression` for training a regression model."
      ]
    },
    {
      "cell_type": "markdown",
      "metadata": {
        "id": "JaJ2NshEdP-q",
        "colab_type": "text"
      },
      "source": [
        "### Linear Regression Pipeline"
      ]
    },
    {
      "cell_type": "code",
      "metadata": {
        "id": "04TMXOkEdP-q",
        "colab_type": "code",
        "colab": {}
      },
      "source": [
        "pipe = Pipeline(steps=[('preprocess', preprocess_pipeline), \n",
        "                       ('reduce_dim', 'passthrough'),\n",
        "                       ('regresson', LinearRegression())])"
      ],
      "execution_count": 0,
      "outputs": []
    },
    {
      "cell_type": "markdown",
      "metadata": {
        "id": "XcHTmEECdP-t",
        "colab_type": "text"
      },
      "source": [
        "Again we limit the parameter grid to one parameter of `LinearRegression` and three alternative values for the number of selected features to make sure the grid search does not take too long to execute."
      ]
    },
    {
      "cell_type": "code",
      "metadata": {
        "id": "6yVa3lHkdP-t",
        "colab_type": "code",
        "colab": {
          "base_uri": "https://localhost:8080/",
          "height": 122
        },
        "outputId": "1297a521-af92-46a6-e5a7-e153c8179cbc"
      },
      "source": [
        "N_FEATURES_OPTIONS = [2, 6, 11]\n",
        "NORMALIZE_OPTIONS = [False, True]\n",
        "\n",
        "param_grid = [\n",
        "    {\n",
        "        'reduce_dim': [PCA(iterated_power=7)],\n",
        "        'reduce_dim__n_components': N_FEATURES_OPTIONS,\n",
        "        'regresson__normalize': NORMALIZE_OPTIONS\n",
        "    },\n",
        "    {\n",
        "        'reduce_dim': [RFE(svm.SVR(kernel='linear', gamma='auto')),RFE(LinearRegression())],\n",
        "        'reduce_dim__n_features_to_select': N_FEATURES_OPTIONS,\n",
        "        'regresson__normalize': NORMALIZE_OPTIONS\n",
        "    }  \n",
        "]\n",
        "\n",
        "search = GridSearchCV(pipe, param_grid, n_jobs=-1, cv=10, iid=False, refit=True)\n",
        "search.fit(X_train, y_train)\n",
        "print(\"Best CV score = %0.3f\" % search.best_score_)\n",
        "print(\"Best parameters: \", search.best_params_)\n",
        "\n",
        "# store the best params and best model for later use\n",
        "LR_best_params = search.best_params_\n",
        "LR_best_model = search.best_estimator_"
      ],
      "execution_count": 35,
      "outputs": [
        {
          "output_type": "stream",
          "text": [
            "Best CV score = 0.281\n",
            "Best parameters:  {'reduce_dim': PCA(copy=True, iterated_power=7, n_components=11, random_state=None,\n",
            "    svd_solver='auto', tol=0.0, whiten=False), 'reduce_dim__n_components': 11, 'regresson__normalize': False}\n"
          ],
          "name": "stdout"
        },
        {
          "output_type": "stream",
          "text": [
            "/usr/local/lib/python3.6/dist-packages/sklearn/model_selection/_search.py:823: FutureWarning: The parameter 'iid' is deprecated in 0.22 and will be removed in 0.24.\n",
            "  \"removed in 0.24.\", FutureWarning\n"
          ],
          "name": "stderr"
        }
      ]
    },
    {
      "cell_type": "markdown",
      "metadata": {
        "id": "NqUQMV8adP-w",
        "colab_type": "text"
      },
      "source": [
        "The results suggest that Random Forest performs better. The cross-validation score is `1 - relative squared error`. The higher the score the more accurate the model. We can now further confirm this by comparing the best models on the test set."
      ]
    },
    {
      "cell_type": "code",
      "metadata": {
        "id": "XPiSo535r3Gt",
        "colab_type": "code",
        "colab": {}
      },
      "source": [
        "pipe = Pipeline(steps=[('preprocess', preprocess_pipeline), \n",
        "                       ('reduce_dim', 'passthrough'),\n",
        "                       ('regresson', LinearRegression())])"
      ],
      "execution_count": 0,
      "outputs": []
    },
    {
      "cell_type": "code",
      "metadata": {
        "id": "kbiyS-PYr6xH",
        "colab_type": "code",
        "colab": {
          "base_uri": "https://localhost:8080/",
          "height": 139
        },
        "outputId": "c0cd5401-0e5b-4ce6-82bd-6dee2da337e9"
      },
      "source": [
        "N_FEATURES_OPTIONS = [2, 6, 11]\n",
        "NORMALIZE_OPTIONS = [False, True]\n",
        "\n",
        "param_grid = [\n",
        "    {\n",
        "        'reduce_dim': [FastICA()],\n",
        "        'reduce_dim__n_components': N_FEATURES_OPTIONS,\n",
        "        'regresson__normalize': NORMALIZE_OPTIONS\n",
        "    },\n",
        "    {\n",
        "        'reduce_dim': [FactorAnalysis()],\n",
        "        'reduce_dim__n_components': [1, 3,7],\n",
        "        'regresson__normalize': NORMALIZE_OPTIONS\n",
        "    }  \n",
        "]\n",
        "\n",
        "search = GridSearchCV(pipe, param_grid, n_jobs=-1, cv=10, iid=False, refit=True)\n",
        "search.fit(X_train, y_train)\n",
        "print(\"Best CV score = %0.3f\" % search.best_score_)\n",
        "print(\"Best parameters: \", search.best_params_)\n",
        "\n",
        "# store the best params and best model for later use\n",
        "LR_best_params = search.best_params_\n",
        "LR_best_model = search.best_estimator_"
      ],
      "execution_count": 48,
      "outputs": [
        {
          "output_type": "stream",
          "text": [
            "Best CV score = 0.281\n",
            "Best parameters:  {'reduce_dim': FastICA(algorithm='parallel', fun='logcosh', fun_args=None, max_iter=200,\n",
            "        n_components=11, random_state=None, tol=0.0001, w_init=None,\n",
            "        whiten=True), 'reduce_dim__n_components': 11, 'regresson__normalize': True}\n"
          ],
          "name": "stdout"
        },
        {
          "output_type": "stream",
          "text": [
            "/usr/local/lib/python3.6/dist-packages/sklearn/model_selection/_search.py:823: FutureWarning: The parameter 'iid' is deprecated in 0.22 and will be removed in 0.24.\n",
            "  \"removed in 0.24.\", FutureWarning\n"
          ],
          "name": "stderr"
        }
      ]
    },
    {
      "cell_type": "markdown",
      "metadata": {
        "id": "7n8eHOSqdP-z",
        "colab_type": "text"
      },
      "source": [
        "## Compare Regression Models on Test Set"
      ]
    },
    {
      "cell_type": "markdown",
      "metadata": {
        "id": "ZE37-ByedP-z",
        "colab_type": "text"
      },
      "source": [
        "Now we can evaluate the best models found by the grid search on the test dataset and compare their metrics:\n",
        "\n",
        "- mean squared error (MSE)\n",
        "- mean absolute error (MAE)\n",
        "- 1-relative squared error (R2)\n",
        "\n",
        "to choose the better regressor for our problem."
      ]
    },
    {
      "cell_type": "code",
      "metadata": {
        "id": "Z4MVS2CMdP-0",
        "colab_type": "code",
        "colab": {}
      },
      "source": [
        "# model - a trained regression model\n",
        "\n",
        "def evaluate_model(X_test, y_test, model):\n",
        "    \n",
        "    # compute predictiond for the test set\n",
        "    _predicted_values = model.predict(X_test)\n",
        "        \n",
        "    # compute metrics\n",
        "    _mse = mean_squared_error(y_test, _predicted_values)\n",
        "    _mae = mean_absolute_error(y_test, _predicted_values)\n",
        "    _r2 = r2_score(y_test, _predicted_values)\n",
        "            \n",
        "    return _mse, _mae, _r2"
      ],
      "execution_count": 0,
      "outputs": []
    },
    {
      "cell_type": "markdown",
      "metadata": {
        "id": "Q9xuS-_cdP-2",
        "colab_type": "text"
      },
      "source": [
        "We will use the function above to evaluate the best Random Forest and Linear Regression models found by the grid search."
      ]
    },
    {
      "cell_type": "code",
      "metadata": {
        "id": "gRdCnhDadP-2",
        "colab_type": "code",
        "colab": {}
      },
      "source": [
        "RF_mse, RF_mae, RF_r2 = evaluate_model(X_test, y_test, RF_best_model)\n",
        "LR_mse, LR_mae, LR_r2 = evaluate_model(X_test, y_test, LR_best_model)"
      ],
      "execution_count": 0,
      "outputs": []
    },
    {
      "cell_type": "markdown",
      "metadata": {
        "id": "Q45hYP1GdP-5",
        "colab_type": "text"
      },
      "source": [
        "We will use a Pandas bar plot to compare the results. "
      ]
    },
    {
      "cell_type": "code",
      "metadata": {
        "id": "KpLeNXBXdP-5",
        "colab_type": "code",
        "colab": {
          "base_uri": "https://localhost:8080/",
          "height": 265
        },
        "outputId": "a9d2faa6-f87a-4345-9f2d-7d55eb1f7580"
      },
      "source": [
        "RF_metrics = np.array([RF_mse, RF_mae, RF_r2])\n",
        "LR_metrics = np.array([LR_mse, LR_mae, LR_r2])\n",
        "index = ['MSE', 'MAE', 'R2']\n",
        "df_metrics = pd.DataFrame({'Random Forest': RF_metrics, 'Linear Regression': LR_metrics}, index=index)\n",
        "df_metrics.plot.bar(rot=0)\n",
        "plt.legend(loc=\"lower right\")\n",
        "plt.show()"
      ],
      "execution_count": 38,
      "outputs": [
        {
          "output_type": "display_data",
          "data": {
            "image/png": "[encoded data removed]",
            "text/plain": [
              "<Figure size 432x288 with 1 Axes>"
            ]
          },
          "metadata": {
            "tags": [],
            "needs_background": "light"
          }
        }
      ]
    },
    {
      "cell_type": "markdown",
      "metadata": {
        "id": "ozDLA7nsdP-7",
        "colab_type": "text"
      },
      "source": [
        "This tests confirms that Random Forest is the better regression model with lower MSE and MAE and higher R2."
      ]
    },
    {
      "cell_type": "markdown",
      "metadata": {
        "id": "8SJdOMgjdP-8",
        "colab_type": "text"
      },
      "source": [
        "## Train a Final Model"
      ]
    },
    {
      "cell_type": "markdown",
      "metadata": {
        "id": "JJTd9XBhdP-8",
        "colab_type": "text"
      },
      "source": [
        "Finally, we can train a Random Forest regression model with all the data we have, assuming that the more data we have the better the model."
      ]
    },
    {
      "cell_type": "code",
      "metadata": {
        "id": "eOt9nzx-dP-9",
        "colab_type": "code",
        "colab": {}
      },
      "source": [
        "# function to remove the string 'regresson__' from the names of the best parameters\n",
        "def transform(dict, prefix):\n",
        "    dict_prefix = {key:value for key,value in dict.items() if prefix in key}\n",
        "    return {key.replace(prefix,''):value for key,value in dict_prefix.items()}\n",
        "\n",
        "pipe = make_pipeline(preprocess_pipeline, \n",
        "                     RF_best_params.get('reduce_dim'),\n",
        "                     RandomForestRegressor(n_estimators=10, **transform(RF_best_params, 'regresson__')))\n",
        "\n",
        "final_model =pipe.fit(X, y)"
      ],
      "execution_count": 0,
      "outputs": []
    },
    {
      "cell_type": "markdown",
      "metadata": {
        "id": "10-IphiGdP-_",
        "colab_type": "text"
      },
      "source": [
        "We can also store this model on disk."
      ]
    },
    {
      "cell_type": "code",
      "metadata": {
        "id": "o9V8EAT0dP-_",
        "colab_type": "code",
        "colab": {}
      },
      "source": [
        "filename = 'final_model.sav'\n",
        "pickle.dump(final_model, open(filename, 'wb'))"
      ],
      "execution_count": 0,
      "outputs": []
    },
    {
      "cell_type": "code",
      "metadata": {
        "id": "K3IqL2IAdP_E",
        "colab_type": "code",
        "colab": {}
      },
      "source": [
        ""
      ],
      "execution_count": 0,
      "outputs": []
    }
  ]
}