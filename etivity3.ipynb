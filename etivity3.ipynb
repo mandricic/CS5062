{
  "nbformat": 4,
  "nbformat_minor": 0,
  "metadata": {
    "kernelspec": {
      "display_name": "Python 3",
      "language": "python",
      "name": "python3"
    },
    "language_info": {
      "codemirror_mode": {
        "name": "ipython",
        "version": 3
      },
      "file_extension": ".py",
      "mimetype": "text/x-python",
      "name": "python",
      "nbconvert_exporter": "python",
      "pygments_lexer": "ipython3",
      "version": "3.7.4"
    },
    "colab": {
      "name": "etivity3.ipynb",
      "provenance": []
    }
  },
  "cells": [
    {
      "cell_type": "markdown",
      "metadata": {
        "id": "e2GzUcAu32DP",
        "colab_type": "text"
      },
      "source": [
        "# Lab 3: Clustering and Manifold Learning"
      ]
    },
    {
      "cell_type": "markdown",
      "metadata": {
        "id": "Zt_hjr7-32DT",
        "colab_type": "text"
      },
      "source": [
        "### A. Import Python Modules and Dataset"
      ]
    },
    {
      "cell_type": "code",
      "metadata": {
        "id": "PxPX8lvo32DU",
        "colab_type": "code",
        "colab": {}
      },
      "source": [
        "import pandas as pd\n",
        "import numpy as np\n",
        "import matplotlib.pyplot as plt\n",
        "from sklearn.cluster import KMeans\n",
        "from sklearn import manifold #needed for multidimensional scaling (MDS) and t-SNE\n",
        "from sklearn import cluster #needed for k-Means clustering\n",
        "from sklearn import preprocessing #needed for scaling attributes to the nterval [0,1]\n",
        "from scipy.spatial.distance import cdist"
      ],
      "execution_count": 0,
      "outputs": []
    },
    {
      "cell_type": "markdown",
      "metadata": {
        "id": "PleHtIVI32Da",
        "colab_type": "text"
      },
      "source": [
        "#### Load the dataset"
      ]
    },
    {
      "cell_type": "code",
      "metadata": {
        "id": "gy77UtGl32Dc",
        "colab_type": "code",
        "outputId": "3b14157a-524a-4a8a-e43f-5a03bae7dc77",
        "colab": {
          "base_uri": "https://localhost:8080/",
          "height": 34
        }
      },
      "source": [
        "df = pd.read_csv(\"https://raw.githubusercontent.com/mandricic/CS5062/master/loans_train_prepared.csv\")\n",
        "data = np.array(df.values, dtype=float)\n",
        "print('(number of examples, number of attributes): ', data.shape)"
      ],
      "execution_count": 57,
      "outputs": [
        {
          "output_type": "stream",
          "text": [
            "(number of examples, number of attributes):  (614, 16)\n"
          ],
          "name": "stdout"
        }
      ]
    },
    {
      "cell_type": "markdown",
      "metadata": {
        "id": "N5QJb5Xu32Dp",
        "colab_type": "text"
      },
      "source": [
        "### Scatterplot Function (to be used below for visualising a clustering) "
      ]
    },
    {
      "cell_type": "code",
      "metadata": {
        "id": "eO3HwFzP32Dq",
        "colab_type": "code",
        "colab": {}
      },
      "source": [
        "colors = np.array(['orange', 'blue', 'lime', 'blue', 'khaki', 'pink', 'green', 'purple'])\n",
        "\n",
        "# points - a 2D array of (x,y) coordinates of data points\n",
        "# labels - an array of numeric labels in the interval [0..k-1], one for each point\n",
        "# centers - a 2D array of (x, y) coordinates of cluster centers\n",
        "# title - title of the plot\n",
        "\n",
        "\n",
        "def clustering_scatterplot(points, labels, centers, title):\n",
        "    \n",
        "    \n",
        "    n_clusters = np.unique(labels).size\n",
        "    for i in range(n_clusters):\n",
        "        h = plt.scatter(points[labels==i,0],\n",
        "                        points[labels==i,1], \n",
        "                        c=colors[i%colors.size],\n",
        "                        label = 'cluster '+str(i))\n",
        "\n",
        "    # plot the centers of the clusters\n",
        "    if centers is not None:\n",
        "        plt.scatter(centers[:,0], centers[:,1], c='r', marker='*', s=500)\n",
        "\n",
        "    _ = plt.title(title)\n",
        "    _ = plt.legend()\n",
        "    _ = plt.xlabel('x')\n",
        "    _ = plt.ylabel('y')"
      ],
      "execution_count": 0,
      "outputs": []
    },
    {
      "cell_type": "markdown",
      "metadata": {
        "id": "9T30C5K132Dv",
        "colab_type": "text"
      },
      "source": [
        "### D. K-Means Clustering"
      ]
    },
    {
      "cell_type": "markdown",
      "metadata": {
        "id": "bYCOKAFb32Dw",
        "colab_type": "text"
      },
      "source": [
        "Number of clusters $k$."
      ]
    },
    {
      "cell_type": "code",
      "metadata": {
        "id": "JiaEc63c32Dx",
        "colab_type": "code",
        "colab": {}
      },
      "source": [
        "k = 4"
      ],
      "execution_count": 0,
      "outputs": []
    },
    {
      "cell_type": "markdown",
      "metadata": {
        "id": "g1jweG5z32D2",
        "colab_type": "text"
      },
      "source": [
        "#### Run k-Means"
      ]
    },
    {
      "cell_type": "code",
      "metadata": {
        "id": "AMVi8G6C32D3",
        "colab_type": "code",
        "colab": {}
      },
      "source": [
        "clustered_data_sklearn = cluster.KMeans(n_clusters=k, n_init=10, max_iter=300).fit(data)"
      ],
      "execution_count": 0,
      "outputs": []
    },
    {
      "cell_type": "markdown",
      "metadata": {
        "id": "qD36IT5E32D_",
        "colab_type": "text"
      },
      "source": [
        "### E. Apply a manifold-learning technique to project the data set to a 2D space\n"
      ]
    },
    {
      "cell_type": "code",
      "metadata": {
        "id": "IAVjvjtn32EB",
        "colab_type": "code",
        "colab": {}
      },
      "source": [
        "data_and_centers = np.r_[data,clustered_data_sklearn.cluster_centers_]"
      ],
      "execution_count": 0,
      "outputs": []
    },
    {
      "cell_type": "markdown",
      "metadata": {
        "id": "5uY74it_32EF",
        "colab_type": "text"
      },
      "source": [
        "#### E1. Apply multi-dimensional scaling (MDS) to project both the data and the k-Means cluster centers to a 2D space"
      ]
    },
    {
      "cell_type": "markdown",
      "metadata": {
        "id": "C3sw-lXV32EF",
        "colab_type": "text"
      },
      "source": [
        "Project both the data and the k-Means cluster centers to 2D."
      ]
    },
    {
      "cell_type": "code",
      "metadata": {
        "id": "R-8YGubD32EG",
        "colab_type": "code",
        "outputId": "64756bc9-6e6b-4ea6-8982-764574fced83",
        "colab": {
          "base_uri": "https://localhost:8080/",
          "height": 34
        }
      },
      "source": [
        "XYcoordinates = manifold.MDS(n_components=2).fit_transform(data_and_centers)\n",
        "print(\"transformation complete\")"
      ],
      "execution_count": 45,
      "outputs": [
        {
          "output_type": "stream",
          "text": [
            "transformation complete\n"
          ],
          "name": "stdout"
        }
      ]
    },
    {
      "cell_type": "markdown",
      "metadata": {
        "id": "2yN4Afe832EK",
        "colab_type": "text"
      },
      "source": [
        "Plot the transformed examples and the centers. Use the cluster assignment to colour the examples."
      ]
    },
    {
      "cell_type": "code",
      "metadata": {
        "id": "l-wfS5Jh32EK",
        "colab_type": "code",
        "outputId": "95fc23fe-557b-4775-d8c9-ded5f41a5c64",
        "colab": {
          "base_uri": "https://localhost:8080/",
          "height": 295
        }
      },
      "source": [
        "clustering_scatterplot(points=XYcoordinates[:-k,:], \n",
        "                       labels=clustered_data_sklearn.labels_, \n",
        "                       centers=XYcoordinates[-k:,:], \n",
        "                       title='MDS') "
      ],
      "execution_count": 46,
      "outputs": [
        {
          "output_type": "display_data",
          "data": {
            "image/png": "[encoded data removed]",
            "text/plain": [
              "<Figure size 432x288 with 1 Axes>"
            ]
          },
          "metadata": {
            "tags": []
          }
        }
      ]
    },
    {
      "cell_type": "code",
      "metadata": {
        "id": "mpnylquwIwJu",
        "colab_type": "code",
        "outputId": "cc911b73-0ee9-4340-8ff9-aa09ec0341c8",
        "colab": {
          "base_uri": "https://localhost:8080/",
          "height": 279
        }
      },
      "source": [
        "distortions = []\n",
        "for i in range(1, 10):\n",
        "    km = KMeans(\n",
        "        n_clusters=i, init='random',\n",
        "        n_init=10, max_iter=300,\n",
        "        tol=1e-04, random_state=0\n",
        "    )\n",
        "    km.fit(data)\n",
        "    distortions.append(km.inertia_)\n",
        "\n",
        "# plot\n",
        "plt.plot(range(1, 10), distortions, marker='o')\n",
        "plt.xlabel('Number of clusters')\n",
        "plt.ylabel('Distortion')\n",
        "plt.show()"
      ],
      "execution_count": 78,
      "outputs": [
        {
          "output_type": "display_data",
          "data": {
            "image/png": "[encoded data removed]",
            "text/plain": [
              "<Figure size 432x288 with 1 Axes>"
            ]
          },
          "metadata": {
            "tags": []
          }
        }
      ]
    },
    {
      "cell_type": "code",
      "metadata": {
        "id": "lNJuzgCx9fjv",
        "colab_type": "code",
        "colab": {
          "base_uri": "https://localhost:8080/",
          "height": 295
        },
        "outputId": "3e908292-8597-4265-b1dd-7cadd22928f6"
      },
      "source": [
        "mms = preprocessing.MinMaxScaler()\n",
        "mms.fit(data)\n",
        " \n",
        "data_transformed = mms.transform(data)\n",
        "\n",
        "\n",
        "Sum_of_squared_distances = []\n",
        "K = range(1,10)\n",
        "for k in K:\n",
        "    km = KMeans(n_clusters=k)\n",
        "    km = km.fit(data_transformed)\n",
        "    Sum_of_squared_distances.append(km.inertia_)\n",
        "\n",
        "\n",
        "plt.plot(K, Sum_of_squared_distances, 'bx-')\n",
        "plt.xlabel('k')\n",
        "plt.ylabel('Sum_of_squared_distances')\n",
        "plt.title('Elbow Method For Optimal k')\n",
        "plt.show()\n",
        "\n",
        " "
      ],
      "execution_count": 75,
      "outputs": [
        {
          "output_type": "display_data",
          "data": {
            "image/png": "[encoded data removed]",
            "text/plain": [
              "<Figure size 432x288 with 1 Axes>"
            ]
          },
          "metadata": {
            "tags": []
          }
        }
      ]
    },
    {
      "cell_type": "markdown",
      "metadata": {
        "id": "RWpsRc9y32Ej",
        "colab_type": "text"
      },
      "source": [
        "### F. Cluster Analysis"
      ]
    },
    {
      "cell_type": "markdown",
      "metadata": {
        "id": "5kYM-Tha32Ek",
        "colab_type": "text"
      },
      "source": [
        "#### Add the cluster labels as an extra column in the original dataframe"
      ]
    },
    {
      "cell_type": "code",
      "metadata": {
        "id": "sWtg259x32El",
        "colab_type": "code",
        "colab": {}
      },
      "source": [
        "df['cluster'] = pd.Series(clustered_data_sklearn.labels_, index=df.index)"
      ],
      "execution_count": 0,
      "outputs": []
    },
    {
      "cell_type": "code",
      "metadata": {
        "id": "c7utFVn_32Ep",
        "colab_type": "code",
        "outputId": "55d0c502-0c1e-4c68-f6d1-b71eb1745ba1",
        "colab": {
          "base_uri": "https://localhost:8080/",
          "height": 241
        }
      },
      "source": [
        "df.head()"
      ],
      "execution_count": 68,
      "outputs": [
        {
          "output_type": "execute_result",
          "data": {
            "text/html": [
              "<div>\n",
              "<style scoped>\n",
              "    .dataframe tbody tr th:only-of-type {\n",
              "        vertical-align: middle;\n",
              "    }\n",
              "\n",
              "    .dataframe tbody tr th {\n",
              "        vertical-align: top;\n",
              "    }\n",
              "\n",
              "    .dataframe thead th {\n",
              "        text-align: right;\n",
              "    }\n",
              "</style>\n",
              "<table border=\"1\" class=\"dataframe\">\n",
              "  <thead>\n",
              "    <tr style=\"text-align: right;\">\n",
              "      <th></th>\n",
              "      <th>Dependents</th>\n",
              "      <th>ApplicantIncome</th>\n",
              "      <th>LoanAmount</th>\n",
              "      <th>Loan_Amount_Term</th>\n",
              "      <th>Credit_History</th>\n",
              "      <th>Gender_Male</th>\n",
              "      <th>Gender_nan</th>\n",
              "      <th>Married_Yes</th>\n",
              "      <th>Married_nan</th>\n",
              "      <th>Self_Employed_Yes</th>\n",
              "      <th>Self_Employed_nan</th>\n",
              "      <th>Education_Not Graduate</th>\n",
              "      <th>Property_Area_Semiurban</th>\n",
              "      <th>Property_Area_Urban</th>\n",
              "      <th>Loan_Status_Y</th>\n",
              "      <th>TotalIncome</th>\n",
              "      <th>cluster</th>\n",
              "    </tr>\n",
              "  </thead>\n",
              "  <tbody>\n",
              "    <tr>\n",
              "      <th>0</th>\n",
              "      <td>0.000000</td>\n",
              "      <td>1.084523</td>\n",
              "      <td>1.058140</td>\n",
              "      <td>0.75</td>\n",
              "      <td>1</td>\n",
              "      <td>1</td>\n",
              "      <td>0</td>\n",
              "      <td>0</td>\n",
              "      <td>0</td>\n",
              "      <td>0</td>\n",
              "      <td>0</td>\n",
              "      <td>0</td>\n",
              "      <td>0</td>\n",
              "      <td>1</td>\n",
              "      <td>1</td>\n",
              "      <td>0.841086</td>\n",
              "      <td>1</td>\n",
              "    </tr>\n",
              "    <tr>\n",
              "      <th>1</th>\n",
              "      <td>0.333333</td>\n",
              "      <td>0.925883</td>\n",
              "      <td>1.047319</td>\n",
              "      <td>0.75</td>\n",
              "      <td>1</td>\n",
              "      <td>1</td>\n",
              "      <td>0</td>\n",
              "      <td>1</td>\n",
              "      <td>0</td>\n",
              "      <td>0</td>\n",
              "      <td>0</td>\n",
              "      <td>0</td>\n",
              "      <td>0</td>\n",
              "      <td>0</td>\n",
              "      <td>0</td>\n",
              "      <td>0.871711</td>\n",
              "      <td>3</td>\n",
              "    </tr>\n",
              "    <tr>\n",
              "      <th>2</th>\n",
              "      <td>0.000000</td>\n",
              "      <td>0.683858</td>\n",
              "      <td>0.635920</td>\n",
              "      <td>0.75</td>\n",
              "      <td>1</td>\n",
              "      <td>1</td>\n",
              "      <td>0</td>\n",
              "      <td>1</td>\n",
              "      <td>0</td>\n",
              "      <td>1</td>\n",
              "      <td>0</td>\n",
              "      <td>0</td>\n",
              "      <td>0</td>\n",
              "      <td>1</td>\n",
              "      <td>1</td>\n",
              "      <td>0.385189</td>\n",
              "      <td>1</td>\n",
              "    </tr>\n",
              "    <tr>\n",
              "      <th>3</th>\n",
              "      <td>0.000000</td>\n",
              "      <td>0.608992</td>\n",
              "      <td>1.002824</td>\n",
              "      <td>0.75</td>\n",
              "      <td>1</td>\n",
              "      <td>1</td>\n",
              "      <td>0</td>\n",
              "      <td>1</td>\n",
              "      <td>0</td>\n",
              "      <td>0</td>\n",
              "      <td>0</td>\n",
              "      <td>1</td>\n",
              "      <td>0</td>\n",
              "      <td>1</td>\n",
              "      <td>1</td>\n",
              "      <td>0.717012</td>\n",
              "      <td>1</td>\n",
              "    </tr>\n",
              "    <tr>\n",
              "      <th>4</th>\n",
              "      <td>0.000000</td>\n",
              "      <td>1.101869</td>\n",
              "      <td>1.115650</td>\n",
              "      <td>0.75</td>\n",
              "      <td>1</td>\n",
              "      <td>1</td>\n",
              "      <td>0</td>\n",
              "      <td>0</td>\n",
              "      <td>0</td>\n",
              "      <td>0</td>\n",
              "      <td>0</td>\n",
              "      <td>0</td>\n",
              "      <td>0</td>\n",
              "      <td>1</td>\n",
              "      <td>1</td>\n",
              "      <td>0.860305</td>\n",
              "      <td>1</td>\n",
              "    </tr>\n",
              "  </tbody>\n",
              "</table>\n",
              "</div>"
            ],
            "text/plain": [
              "   Dependents  ApplicantIncome  LoanAmount  ...  Loan_Status_Y  TotalIncome  cluster\n",
              "0    0.000000         1.084523    1.058140  ...              1     0.841086        1\n",
              "1    0.333333         0.925883    1.047319  ...              0     0.871711        3\n",
              "2    0.000000         0.683858    0.635920  ...              1     0.385189        1\n",
              "3    0.000000         0.608992    1.002824  ...              1     0.717012        1\n",
              "4    0.000000         1.101869    1.115650  ...              1     0.860305        1\n",
              "\n",
              "[5 rows x 17 columns]"
            ]
          },
          "metadata": {
            "tags": []
          },
          "execution_count": 68
        }
      ]
    },
    {
      "cell_type": "code",
      "metadata": {
        "id": "hhIHF1-g32Et",
        "colab_type": "code",
        "colab": {}
      },
      "source": [
        "df.tail()"
      ],
      "execution_count": 0,
      "outputs": []
    },
    {
      "cell_type": "markdown",
      "metadata": {
        "id": "x2OEhR1R32Ex",
        "colab_type": "text"
      },
      "source": [
        "#### Compute the mean value of each attribute for each cluster"
      ]
    },
    {
      "cell_type": "code",
      "metadata": {
        "id": "IgUPNajN32Ey",
        "colab_type": "code",
        "outputId": "9f7ccecb-6a60-4de3-fab7-cf7e4ab43bf5",
        "colab": {
          "base_uri": "https://localhost:8080/",
          "height": 241
        }
      },
      "source": [
        "df.groupby('cluster').mean()"
      ],
      "execution_count": 69,
      "outputs": [
        {
          "output_type": "execute_result",
          "data": {
            "text/html": [
              "<div>\n",
              "<style scoped>\n",
              "    .dataframe tbody tr th:only-of-type {\n",
              "        vertical-align: middle;\n",
              "    }\n",
              "\n",
              "    .dataframe tbody tr th {\n",
              "        vertical-align: top;\n",
              "    }\n",
              "\n",
              "    .dataframe thead th {\n",
              "        text-align: right;\n",
              "    }\n",
              "</style>\n",
              "<table border=\"1\" class=\"dataframe\">\n",
              "  <thead>\n",
              "    <tr style=\"text-align: right;\">\n",
              "      <th></th>\n",
              "      <th>Dependents</th>\n",
              "      <th>ApplicantIncome</th>\n",
              "      <th>LoanAmount</th>\n",
              "      <th>Loan_Amount_Term</th>\n",
              "      <th>Credit_History</th>\n",
              "      <th>Gender_Male</th>\n",
              "      <th>Gender_nan</th>\n",
              "      <th>Married_Yes</th>\n",
              "      <th>Married_nan</th>\n",
              "      <th>Self_Employed_Yes</th>\n",
              "      <th>Self_Employed_nan</th>\n",
              "      <th>Education_Not Graduate</th>\n",
              "      <th>Property_Area_Semiurban</th>\n",
              "      <th>Property_Area_Urban</th>\n",
              "      <th>Loan_Status_Y</th>\n",
              "      <th>TotalIncome</th>\n",
              "    </tr>\n",
              "    <tr>\n",
              "      <th>cluster</th>\n",
              "      <th></th>\n",
              "      <th></th>\n",
              "      <th></th>\n",
              "      <th></th>\n",
              "      <th></th>\n",
              "      <th></th>\n",
              "      <th></th>\n",
              "      <th></th>\n",
              "      <th></th>\n",
              "      <th></th>\n",
              "      <th></th>\n",
              "      <th></th>\n",
              "      <th></th>\n",
              "      <th></th>\n",
              "      <th></th>\n",
              "      <th></th>\n",
              "    </tr>\n",
              "  </thead>\n",
              "  <tbody>\n",
              "    <tr>\n",
              "      <th>0</th>\n",
              "      <td>0.318008</td>\n",
              "      <td>1.640822</td>\n",
              "      <td>1.519768</td>\n",
              "      <td>0.709770</td>\n",
              "      <td>0.896552</td>\n",
              "      <td>0.793103</td>\n",
              "      <td>0.057471</td>\n",
              "      <td>0.666667</td>\n",
              "      <td>0.000000</td>\n",
              "      <td>0.321839</td>\n",
              "      <td>0.034483</td>\n",
              "      <td>0.022989</td>\n",
              "      <td>0.252874</td>\n",
              "      <td>0.413793</td>\n",
              "      <td>0.643678</td>\n",
              "      <td>1.626243</td>\n",
              "    </tr>\n",
              "    <tr>\n",
              "      <th>1</th>\n",
              "      <td>0.234323</td>\n",
              "      <td>0.781144</td>\n",
              "      <td>0.981610</td>\n",
              "      <td>0.701733</td>\n",
              "      <td>0.985149</td>\n",
              "      <td>0.851485</td>\n",
              "      <td>0.004950</td>\n",
              "      <td>0.643564</td>\n",
              "      <td>0.004950</td>\n",
              "      <td>0.099010</td>\n",
              "      <td>0.069307</td>\n",
              "      <td>0.227723</td>\n",
              "      <td>0.000000</td>\n",
              "      <td>0.539604</td>\n",
              "      <td>1.000000</td>\n",
              "      <td>0.732675</td>\n",
              "    </tr>\n",
              "    <tr>\n",
              "      <th>2</th>\n",
              "      <td>0.237077</td>\n",
              "      <td>0.825753</td>\n",
              "      <td>1.036077</td>\n",
              "      <td>0.718984</td>\n",
              "      <td>0.983957</td>\n",
              "      <td>0.759358</td>\n",
              "      <td>0.010695</td>\n",
              "      <td>0.657754</td>\n",
              "      <td>0.010695</td>\n",
              "      <td>0.122995</td>\n",
              "      <td>0.042781</td>\n",
              "      <td>0.213904</td>\n",
              "      <td>1.000000</td>\n",
              "      <td>0.000000</td>\n",
              "      <td>0.877005</td>\n",
              "      <td>0.774262</td>\n",
              "    </tr>\n",
              "    <tr>\n",
              "      <th>3</th>\n",
              "      <td>0.239130</td>\n",
              "      <td>0.781355</td>\n",
              "      <td>0.989485</td>\n",
              "      <td>0.725000</td>\n",
              "      <td>0.463768</td>\n",
              "      <td>0.768116</td>\n",
              "      <td>0.036232</td>\n",
              "      <td>0.630435</td>\n",
              "      <td>0.000000</td>\n",
              "      <td>0.079710</td>\n",
              "      <td>0.050725</td>\n",
              "      <td>0.333333</td>\n",
              "      <td>0.173913</td>\n",
              "      <td>0.413043</td>\n",
              "      <td>0.000000</td>\n",
              "      <td>0.691439</td>\n",
              "    </tr>\n",
              "  </tbody>\n",
              "</table>\n",
              "</div>"
            ],
            "text/plain": [
              "         Dependents  ApplicantIncome  ...  Loan_Status_Y  TotalIncome\n",
              "cluster                               ...                            \n",
              "0          0.318008         1.640822  ...       0.643678     1.626243\n",
              "1          0.234323         0.781144  ...       1.000000     0.732675\n",
              "2          0.237077         0.825753  ...       0.877005     0.774262\n",
              "3          0.239130         0.781355  ...       0.000000     0.691439\n",
              "\n",
              "[4 rows x 16 columns]"
            ]
          },
          "metadata": {
            "tags": []
          },
          "execution_count": 69
        }
      ]
    },
    {
      "cell_type": "markdown",
      "metadata": {
        "id": "RmYBAXh232E9",
        "colab_type": "text"
      },
      "source": [
        "Conclusion\n",
        "From the table above, I can see that:\n",
        "\n",
        "Cluster 2  Have lowest value for Loan Amount and have  Hight enough Credit_History. \n",
        "Cluster 0  Contains very low Credit_History and Hight enough ApplicationIncome and Loan Amount. \n",
        "Cluster 3 Have highest Loan Amount and Credit History\n",
        " \n",
        "     \n",
        "_Note that this conclusion is true for this run of k-Means. If the code is executed again, k-Means may produce either different clusters or the same clusters but in a different order._"
      ]
    }
  ]
}